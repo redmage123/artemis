{
 "cells": [
  {
   "cell_type": "markdown",
   "metadata": {
    "slideshow": {
     "slide_type": "slide"
    }
   },
   "source": [
    "# Artemis: AI-Powered Agile Development Pipeline\n",
    "\n",
    "## An Intelligent Multi-Agent System for Software Development\n",
    "\n",
    "---\n",
    "\n",
    "**Created by:** Claude Code\n",
    "\n",
    "**Date:** October 26, 2025\n",
    "\n",
    "**Purpose:** Comprehensive demo of Artemis architecture and features"
   ]
  },
  {
   "cell_type": "markdown",
   "metadata": {
    "slideshow": {
     "slide_type": "slide"
    }
   },
   "source": [
    "## 📋 Agenda\n",
    "\n",
    "1. **Introduction to Artemis**\n",
    "2. **Core Architecture**\n",
    "3. **Intelligent Router with Advanced Features**\n",
    "4. **Advanced Pipeline Features**\n",
    "   - Thermodynamic Computing\n",
    "   - Dynamic Pipeline\n",
    "   - Two-Pass Pipeline\n",
    "5. **Hybrid AI Approach**\n",
    "6. **Live Demo**\n",
    "7. **Metrics & Performance**\n",
    "8. **Q&A**"
   ]
  },
  {
   "cell_type": "markdown",
   "metadata": {
    "slideshow": {
     "slide_type": "slide"
    }
   },
   "source": [
    "## 🎯 What is Artemis?\n",
    "\n",
    "Artemis is an **AI-powered Agile development pipeline** that orchestrates multiple AI agents to complete software development tasks.\n",
    "\n",
    "### Key Features:\n",
    "\n",
    "- **Multi-Agent Orchestration**: Coordinates multiple specialized AI agents\n",
    "- **Intelligent Routing**: Analyzes tasks and selects optimal pipeline strategies\n",
    "- **Kanban Integration**: Full Agile workflow management\n",
    "- **Advanced Pipeline Features**: Thermodynamic computing, dynamic pipelines, two-pass execution\n",
    "- **Cost Optimization**: Hybrid AI approach reduces LLM costs by 50-70%\n",
    "- **Knowledge Graph**: First-class knowledge management with RAG fallback"
   ]
  },
  {
   "cell_type": "code",
   "execution_count": null,
   "metadata": {
    "slideshow": {
     "slide_type": "subslide"
    }
   },
   "outputs": [],
   "source": [
    "# Setup: Import required modules\n",
    "import sys\n",
    "sys.path.insert(0, '/home/bbrelin/src/repos/artemis/src')\n",
    "\n",
    "import json\n",
    "import pandas as pd\n",
    "import matplotlib.pyplot as plt\n",
    "import numpy as np\n",
    "from pathlib import Path\n",
    "\n",
    "# Configure matplotlib for better looking plots\n",
    "plt.style.use('seaborn-v0_8-darkgrid')\n",
    "plt.rcParams['figure.figsize'] = (12, 6)\n",
    "plt.rcParams['font.size'] = 12\n",
    "\n",
    "print(\"✅ Setup complete!\")"
   ]
  },
  {
   "cell_type": "markdown",
   "metadata": {
    "slideshow": {
     "slide_type": "slide"
    }
   },
   "source": [
    "## 🏗️ Core Architecture\n",
    "\n",
    "```\n",
    "┌─────────────────────────────────────────────────────────┐\n",
    "│                  ArtemisOrchestrator                     │\n",
    "│  (Main coordinator - manages entire workflow)           │\n",
    "└────────────────────┬────────────────────────────────────┘\n",
    "                     │\n",
    "         ┌───────────┼───────────┐\n",
    "         │           │           │\n",
    "         ▼           ▼           ▼\n",
    "┌──────────────┐ ┌─────────────┐ ┌──────────────┐\n",
    "│   Kanban     │ │  Intelligent│ │   Pipeline   │\n",
    "│   Manager    │ │   Router    │ │   Stages     │\n",
    "└──────────────┘ └─────────────┘ └──────────────┘\n",
    "         │           │           │\n",
    "         └───────────┼───────────┘\n",
    "                     │\n",
    "         ┌───────────┴───────────┐\n",
    "         │                       │\n",
    "         ▼                       ▼\n",
    "┌──────────────────┐    ┌──────────────────┐\n",
    "│ Advanced Features│    │  Developer Agents│\n",
    "│ - Thermodynamic  │    │  - developer-a   │\n",
    "│ - Dynamic        │    │  - developer-b   │\n",
    "│ - Two-Pass       │    │  - ...           │\n",
    "└──────────────────┘    └──────────────────┘\n",
    "```"
   ]
  },
  {
   "cell_type": "markdown",
   "metadata": {
    "slideshow": {
     "slide_type": "subslide"
    }
   },
   "source": [
    "### Component Roles\n",
    "\n",
    "| Component | Responsibility | Pattern |\n",
    "|-----------|----------------|----------|\n",
    "| **ArtemisOrchestrator** | Coordinates entire workflow | Facade + Orchestrator |\n",
    "| **KanbanManager** | Manages cards, sprints, WIP limits | Repository |\n",
    "| **Intelligent Router** | Analyzes tasks, recommends strategies | Strategy + Factory |\n",
    "| **Pipeline Stages** | Executes specific development phases | Template Method |\n",
    "| **Advanced Features** | Provides specialized capabilities | Mixin + Strategy |\n",
    "| **Developer Agents** | Implements actual code changes | Agent Pattern |"
   ]
  },
  {
   "cell_type": "code",
   "execution_count": null,
   "metadata": {
    "slideshow": {
     "slide_type": "subslide"
    }
   },
   "outputs": [],
   "source": [
    "# Example: Load and display Kanban board structure\n",
    "try:\n",
    "    with open('/home/bbrelin/src/repos/.agents/agile/kanban_board.json', 'r') as f:\n",
    "        board = json.load(f)\n",
    "    \n",
    "    # Count cards by column\n",
    "    card_counts = {}\n",
    "    for column_name, column_data in board['columns'].items():\n",
    "        card_counts[column_name] = len(column_data.get('cards', []))\n",
    "    \n",
    "    # Visualize\n",
    "    plt.figure(figsize=(10, 5))\n",
    "    plt.bar(card_counts.keys(), card_counts.values(), color='steelblue')\n",
    "    plt.title('Kanban Board - Cards by Column')\n",
    "    plt.xlabel('Column')\n",
    "    plt.ylabel('Number of Cards')\n",
    "    plt.xticks(rotation=45)\n",
    "    plt.tight_layout()\n",
    "    plt.show()\n",
    "    \n",
    "    print(f\"\\n📊 Total cards: {sum(card_counts.values())}\")\n",
    "    for col, count in card_counts.items():\n",
    "        print(f\"   {col}: {count}\")\n",
    "except Exception as e:\n",
    "    print(f\"⚠️ Could not load kanban board: {e}\")"
   ]
  },
  {
   "cell_type": "markdown",
   "metadata": {
    "slideshow": {
     "slide_type": "slide"
    }
   },
   "source": [
    "## 🧠 Intelligent Router\n",
    "\n",
    "The **Intelligent Router** analyzes each task and determines the optimal execution strategy.\n",
    "\n",
    "### Analysis Process:\n",
    "\n",
    "1. **Task Classification** - Identifies task type (feature, bug fix, refactor, etc.)\n",
    "2. **Complexity Assessment** - Analyzes requirements, dependencies, risks\n",
    "3. **Uncertainty Quantification** - Calculates confidence levels and unknown factors\n",
    "4. **Risk Identification** - Detects security, performance, integration risks\n",
    "5. **Feature Recommendation** - Suggests optimal advanced pipeline features\n",
    "6. **Intensity Calculation** - Determines execution intensity (0.0-1.0) for each feature"
   ]
  },
  {
   "cell_type": "code",
   "execution_count": null,
   "metadata": {
    "slideshow": {
     "slide_type": "subslide"
    }
   },
   "outputs": [],
   "source": [
    "# Example: Router Decision Matrix\n",
    "\n",
    "# Sample task characteristics\n",
    "tasks = [\n",
    "    {'name': 'Fix typo in README', 'complexity': 0.1, 'uncertainty': 0.05, 'risk': 0.0},\n",
    "    {'name': 'Add API endpoint', 'complexity': 0.4, 'uncertainty': 0.3, 'risk': 0.2},\n",
    "    {'name': 'Implement OAuth2', 'complexity': 0.7, 'uncertainty': 0.6, 'risk': 0.8},\n",
    "    {'name': 'Distributed caching', 'complexity': 0.9, 'uncertainty': 0.75, 'risk': 0.7}\n",
    "]\n",
    "\n",
    "# Create DataFrame\n",
    "df = pd.DataFrame(tasks)\n",
    "\n",
    "# Visualize task characteristics\n",
    "fig, axes = plt.subplots(1, 3, figsize=(15, 4))\n",
    "\n",
    "# Complexity\n",
    "axes[0].barh(df['name'], df['complexity'], color='cornflowerblue')\n",
    "axes[0].set_xlabel('Complexity')\n",
    "axes[0].set_title('Task Complexity')\n",
    "axes[0].set_xlim(0, 1)\n",
    "\n",
    "# Uncertainty\n",
    "axes[1].barh(df['name'], df['uncertainty'], color='orange')\n",
    "axes[1].set_xlabel('Uncertainty')\n",
    "axes[1].set_title('Task Uncertainty')\n",
    "axes[1].set_xlim(0, 1)\n",
    "\n",
    "# Risk\n",
    "axes[2].barh(df['name'], df['risk'], color='crimson')\n",
    "axes[2].set_xlabel('Risk Level')\n",
    "axes[2].set_title('Task Risk')\n",
    "axes[2].set_xlim(0, 1)\n",
    "\n",
    "plt.tight_layout()\n",
    "plt.show()\n",
    "\n",
    "print(\"\\n📊 Router analyzes these characteristics to recommend optimal pipeline strategy\")"
   ]
  },
  {
   "cell_type": "markdown",
   "metadata": {
    "slideshow": {
     "slide_type": "slide"
    }
   },
   "source": [
    "## 🌡️ Advanced Feature 1: Thermodynamic Computing\n",
    "\n",
    "**Purpose:** Quantifies uncertainty and confidence in code generation\n",
    "\n",
    "### Key Concepts:\n",
    "\n",
    "- **Uncertainty Quantification**: Measures how confident we are in a solution\n",
    "- **Confidence Scoring**: Assigns numerical confidence (0.0-1.0) to generated code\n",
    "- **Risk Assessment**: Identifies potential failure modes\n",
    "- **Adaptive Strategies**: Adjusts approach based on uncertainty levels\n",
    "\n",
    "### Strategies:\n",
    "\n",
    "1. **Bayesian** - Probabilistic inference for high uncertainty\n",
    "2. **Monte Carlo** - Simulation-based for complex scenarios\n",
    "3. **Ensemble** - Multiple approaches for critical tasks\n",
    "4. **Conservative** - Safe defaults for unknown situations"
   ]
  },
  {
   "cell_type": "code",
   "execution_count": null,
   "metadata": {
    "slideshow": {
     "slide_type": "subslide"
    }
   },
   "outputs": [],
   "source": [
    "# Visualize Thermodynamic Computing strategies\n",
    "\n",
    "uncertainty_levels = np.linspace(0, 1, 100)\n",
    "\n",
    "# Strategy selection based on uncertainty\n",
    "def select_strategy(uncertainty):\n",
    "    if uncertainty < 0.3:\n",
    "        return 'conservative'\n",
    "    elif uncertainty < 0.6:\n",
    "        return 'bayesian'\n",
    "    elif uncertainty < 0.8:\n",
    "        return 'monte_carlo'\n",
    "    else:\n",
    "        return 'ensemble'\n",
    "\n",
    "strategies = [select_strategy(u) for u in uncertainty_levels]\n",
    "\n",
    "# Confidence decay with uncertainty\n",
    "confidence = 1.0 - (uncertainty_levels ** 1.5)  # Non-linear decay\n",
    "\n",
    "# Plot\n",
    "fig, (ax1, ax2) = plt.subplots(1, 2, figsize=(14, 5))\n",
    "\n",
    "# Confidence vs Uncertainty\n",
    "ax1.plot(uncertainty_levels, confidence, 'b-', linewidth=2)\n",
    "ax1.fill_between(uncertainty_levels, confidence, alpha=0.3)\n",
    "ax1.set_xlabel('Uncertainty Level')\n",
    "ax1.set_ylabel('Confidence Score')\n",
    "ax1.set_title('Confidence Decay with Uncertainty')\n",
    "ax1.grid(True, alpha=0.3)\n",
    "ax1.axhline(y=0.7, color='r', linestyle='--', label='Threshold')\n",
    "ax1.legend()\n",
    "\n",
    "# Strategy regions\n",
    "strategy_colors = {'conservative': 'green', 'bayesian': 'blue', \n",
    "                   'monte_carlo': 'orange', 'ensemble': 'red'}\n",
    "strategy_values = [list(strategy_colors.keys()).index(s) for s in strategies]\n",
    "\n",
    "ax2.fill_between(uncertainty_levels, 0, strategy_values, \n",
    "                 where=(np.array(strategies) == 'conservative'), \n",
    "                 color='green', alpha=0.5, label='Conservative')\n",
    "ax2.fill_between(uncertainty_levels, 0, strategy_values, \n",
    "                 where=(np.array(strategies) == 'bayesian'), \n",
    "                 color='blue', alpha=0.5, label='Bayesian')\n",
    "ax2.fill_between(uncertainty_levels, 0, strategy_values, \n",
    "                 where=(np.array(strategies) == 'monte_carlo'), \n",
    "                 color='orange', alpha=0.5, label='Monte Carlo')\n",
    "ax2.fill_between(uncertainty_levels, 0, strategy_values, \n",
    "                 where=(np.array(strategies) == 'ensemble'), \n",
    "                 color='red', alpha=0.5, label='Ensemble')\n",
    "ax2.set_xlabel('Uncertainty Level')\n",
    "ax2.set_ylabel('Strategy')\n",
    "ax2.set_title('Strategy Selection by Uncertainty')\n",
    "ax2.legend()\n",
    "ax2.set_yticks(range(4))\n",
    "ax2.set_yticklabels(['Conservative', 'Bayesian', 'Monte Carlo', 'Ensemble'])\n",
    "\n",
    "plt.tight_layout()\n",
    "plt.show()\n",
    "\n",
    "print(\"\\n🌡️ Thermodynamic Computing adapts strategy based on uncertainty\")"
   ]
  },
  {
   "cell_type": "markdown",
   "metadata": {
    "slideshow": {
     "slide_type": "slide"
    }
   },
   "source": [
    "## 🔄 Advanced Feature 2: Dynamic Pipeline\n",
    "\n",
    "**Purpose:** Runtime adaptability - optimize pipeline execution on-the-fly\n",
    "\n",
    "### Capabilities:\n",
    "\n",
    "- **Stage Selection**: Choose which stages to run based on context\n",
    "- **Parallel Execution**: Run independent stages concurrently\n",
    "- **Runtime Modification**: Add/remove stages during execution\n",
    "- **Resource Management**: Optimize worker count and timeouts\n",
    "- **Result Caching**: Avoid redundant stage executions\n",
    "\n",
    "### Selection Strategies:\n",
    "\n",
    "- **Complexity-based**: Simple tasks skip expensive stages\n",
    "- **Resource-based**: Optimize based on CPU/memory/time budgets\n",
    "- **Explicit**: User specifies exact stages to run"
   ]
  },
  {
   "cell_type": "code",
   "execution_count": null,
   "metadata": {
    "slideshow": {
     "slide_type": "subslide"
    }
   },
   "outputs": [],
   "source": [
    "# Visualize Dynamic Pipeline execution\n",
    "\n",
    "# Sample pipeline stages with execution times\n",
    "stages_sequential = [\n",
    "    {'name': 'Requirements', 'time': 5},\n",
    "    {'name': 'Architecture', 'time': 8},\n",
    "    {'name': 'Implementation', 'time': 15},\n",
    "    {'name': 'Testing', 'time': 10},\n",
    "    {'name': 'Review', 'time': 7},\n",
    "    {'name': 'Deployment', 'time': 5}\n",
    "]\n",
    "\n",
    "# Parallel execution groups\n",
    "stages_parallel = [\n",
    "    [{'name': 'Requirements', 'time': 5}],\n",
    "    [{'name': 'Architecture', 'time': 8}],\n",
    "    [{'name': 'Implementation', 'time': 15}],\n",
    "    [{'name': 'Unit Tests', 'time': 5}, {'name': 'Integration Tests', 'time': 5}],\n",
    "    [{'name': 'Code Review', 'time': 4}, {'name': 'Security Review', 'time': 3}],\n",
    "    [{'name': 'Deployment', 'time': 5}]\n",
    "]\n",
    "\n",
    "# Calculate times\n",
    "sequential_time = sum(s['time'] for s in stages_sequential)\n",
    "parallel_time = sum(max(s['time'] for s in group) for group in stages_parallel)\n",
    "\n",
    "# Visualize comparison\n",
    "fig, (ax1, ax2) = plt.subplots(1, 2, figsize=(14, 6))\n",
    "\n",
    "# Sequential\n",
    "y_pos = 0\n",
    "for stage in stages_sequential:\n",
    "    ax1.barh(0, stage['time'], left=y_pos, height=0.5, \n",
    "             label=stage['name'], alpha=0.8)\n",
    "    ax1.text(y_pos + stage['time']/2, 0, stage['name'], \n",
    "            ha='center', va='center', fontsize=9)\n",
    "    y_pos += stage['time']\n",
    "\n",
    "ax1.set_ylim(-0.5, 0.5)\n",
    "ax1.set_xlabel('Time (minutes)')\n",
    "ax1.set_title(f'Sequential Execution\\nTotal: {sequential_time} min')\n",
    "ax1.set_yticks([])\n",
    "ax1.grid(axis='x', alpha=0.3)\n",
    "\n",
    "# Parallel\n",
    "y_pos = 0\n",
    "colors = plt.cm.tab10(np.linspace(0, 1, 10))\n",
    "color_idx = 0\n",
    "for group_idx, group in enumerate(stages_parallel):\n",
    "    max_time = max(s['time'] for s in group)\n",
    "    for stage_idx, stage in enumerate(group):\n",
    "        y_offset = stage_idx * 0.3 - (len(group) - 1) * 0.15\n",
    "        ax2.barh(y_offset, stage['time'], left=y_pos, height=0.25,\n",
    "                color=colors[color_idx], alpha=0.8)\n",
    "        ax2.text(y_pos + stage['time']/2, y_offset, stage['name'],\n",
    "                ha='center', va='center', fontsize=8)\n",
    "        color_idx += 1\n",
    "    y_pos += max_time\n",
    "\n",
    "ax2.set_ylim(-0.5, 0.5)\n",
    "ax2.set_xlabel('Time (minutes)')\n",
    "ax2.set_title(f'Parallel Execution\\nTotal: {parallel_time} min')\n",
    "ax2.set_yticks([])\n",
    "ax2.grid(axis='x', alpha=0.3)\n",
    "\n",
    "plt.tight_layout()\n",
    "plt.show()\n",
    "\n",
    "speedup = sequential_time / parallel_time\n",
    "print(f\"\\n🔄 Dynamic Pipeline parallelization:\")\n",
    "print(f\"   Sequential: {sequential_time} min\")\n",
    "print(f\"   Parallel: {parallel_time} min\")\n",
    "print(f\"   Speedup: {speedup:.2f}x\")"
   ]
  },
  {
   "cell_type": "markdown",
   "metadata": {
    "slideshow": {
     "slide_type": "slide"
    }
   },
   "source": [
    "## 🔁 Advanced Feature 3: Two-Pass Pipeline\n",
    "\n",
    "**Purpose:** Fast feedback with learning-enhanced refinement\n",
    "\n",
    "### Two-Pass Approach:\n",
    "\n",
    "**First Pass (Fast Analysis)**\n",
    "- Quick validation and feasibility check\n",
    "- Identify obvious issues and risks\n",
    "- Create execution plan\n",
    "- Capture insights and learnings\n",
    "- Takes 20-30% of total time\n",
    "\n",
    "**Second Pass (Refined Execution)**\n",
    "- Full implementation with first-pass learnings\n",
    "- Apply insights to avoid mistakes\n",
    "- Optimize based on first-pass feedback\n",
    "- Comprehensive testing and validation\n",
    "- Takes 70-80% of total time\n",
    "\n",
    "### Benefits:\n",
    "- **Fast failure detection** - Catch fatal flaws in seconds\n",
    "- **Resource efficiency** - Don't waste compute on bad approaches\n",
    "- **Incremental improvement** - Each pass builds on previous learnings\n",
    "- **Rollback safety** - Can revert to first pass if second pass degrades quality"
   ]
  },
  {
   "cell_type": "code",
   "execution_count": null,
   "metadata": {
    "slideshow": {
     "slide_type": "subslide"
    }
   },
   "outputs": [],
   "source": [
    "# Visualize Two-Pass Pipeline quality improvement\n",
    "\n",
    "# Sample data: quality improvement through passes\n",
    "tasks = ['Feature A', 'Feature B', 'Feature C', 'Feature D', 'Feature E']\n",
    "first_pass_quality = [0.55, 0.60, 0.50, 0.65, 0.58]\n",
    "second_pass_quality = [0.85, 0.90, 0.78, 0.88, 0.82]\n",
    "quality_threshold = 0.70\n",
    "\n",
    "x = np.arange(len(tasks))\n",
    "width = 0.35\n",
    "\n",
    "fig, (ax1, ax2) = plt.subplots(1, 2, figsize=(14, 5))\n",
    "\n",
    "# Quality comparison\n",
    "ax1.bar(x - width/2, first_pass_quality, width, label='First Pass', \n",
    "        color='lightcoral', alpha=0.8)\n",
    "ax1.bar(x + width/2, second_pass_quality, width, label='Second Pass', \n",
    "        color='lightgreen', alpha=0.8)\n",
    "ax1.axhline(y=quality_threshold, color='red', linestyle='--', \n",
    "           linewidth=2, label='Quality Threshold')\n",
    "ax1.set_xlabel('Tasks')\n",
    "ax1.set_ylabel('Quality Score')\n",
    "ax1.set_title('Quality Improvement: First Pass → Second Pass')\n",
    "ax1.set_xticks(x)\n",
    "ax1.set_xticklabels(tasks)\n",
    "ax1.legend()\n",
    "ax1.set_ylim(0, 1)\n",
    "ax1.grid(axis='y', alpha=0.3)\n",
    "\n",
    "# Time distribution\n",
    "first_pass_time = 25\n",
    "second_pass_time = 75\n",
    "times = [first_pass_time, second_pass_time]\n",
    "labels = ['First Pass\\n(Analysis)', 'Second Pass\\n(Implementation)']\n",
    "colors = ['lightcoral', 'lightgreen']\n",
    "explode = (0.1, 0)\n",
    "\n",
    "ax2.pie(times, explode=explode, labels=labels, colors=colors,\n",
    "        autopct='%1.1f%%', shadow=True, startangle=90)\n",
    "ax2.set_title('Time Distribution: Two-Pass Execution')\n",
    "\n",
    "plt.tight_layout()\n",
    "plt.show()\n",
    "\n",
    "# Calculate improvements\n",
    "avg_improvement = np.mean([s - f for f, s in zip(first_pass_quality, second_pass_quality)])\n",
    "print(f\"\\n🔁 Two-Pass Pipeline improvements:\")\n",
    "print(f\"   Average quality improvement: +{avg_improvement:.2%}\")\n",
    "print(f\"   Tasks meeting threshold:\")\n",
    "print(f\"      First pass: {sum(1 for q in first_pass_quality if q >= quality_threshold)}/{len(tasks)}\")\n",
    "print(f\"      Second pass: {sum(1 for q in second_pass_quality if q >= quality_threshold)}/{len(tasks)}\")"
   ]
  },
  {
   "cell_type": "markdown",
   "metadata": {
    "slideshow": {
     "slide_type": "slide"
    }
   },
   "source": [
    "## 💰 Hybrid AI Approach: Cost Optimization\n",
    "\n",
    "**Purpose:** Reduce LLM costs while maintaining quality\n",
    "\n",
    "### Strategy:\n",
    "\n",
    "**Step 1: Router Pre-computation (FREE!)**\n",
    "- Router analyzes task once\n",
    "- Calculates uncertainty, risks, intensity\n",
    "- Creates rich prompts and guidance\n",
    "- All features reuse this analysis (0 cost)\n",
    "\n",
    "**Step 2: Adaptive AI Calls (ONLY WHEN NEEDED)**\n",
    "- Features start with router's analysis\n",
    "- For simple tasks: Use router's analysis (0 additional calls)\n",
    "- For complex tasks: Make 1-2 adaptive AI calls per feature\n",
    "- Use DRY mixin methods (no code duplication)\n",
    "\n",
    "### Cost Savings:\n",
    "\n",
    "- **Simple tasks**: 100% savings (0 AI calls, instant response)\n",
    "- **Complex tasks**: 50-70% savings (1-2 calls vs 3-7 calls)\n",
    "- **Overall**: Significant cost reduction with same quality"
   ]
  },
  {
   "cell_type": "code",
   "execution_count": null,
   "metadata": {
    "slideshow": {
     "slide_type": "subslide"
    }
   },
   "outputs": [],
   "source": [
    "# Visualize cost comparison: Hybrid vs Naive approach\n",
    "\n",
    "# Sample cost data\n",
    "task_types = ['Simple\\nTasks', 'Moderate\\nTasks', 'Complex\\nTasks', 'Very Complex\\nTasks']\n",
    "naive_costs = [0.15, 0.25, 0.37, 0.50]  # Full AI calls for everything\n",
    "hybrid_costs = [0.00, 0.08, 0.12, 0.18]  # Hybrid approach\n",
    "\n",
    "x = np.arange(len(task_types))\n",
    "width = 0.35\n",
    "\n",
    "fig, (ax1, ax2) = plt.subplots(1, 2, figsize=(14, 5))\n",
    "\n",
    "# Cost comparison\n",
    "bars1 = ax1.bar(x - width/2, naive_costs, width, label='Naive Approach', \n",
    "                color='crimson', alpha=0.7)\n",
    "bars2 = ax1.bar(x + width/2, hybrid_costs, width, label='Hybrid Approach', \n",
    "                color='seagreen', alpha=0.7)\n",
    "\n",
    "# Add value labels\n",
    "for bars in [bars1, bars2]:\n",
    "    for bar in bars:\n",
    "        height = bar.get_height()\n",
    "        ax1.text(bar.get_x() + bar.get_width()/2., height,\n",
    "                f'${height:.2f}', ha='center', va='bottom', fontsize=10)\n",
    "\n",
    "ax1.set_xlabel('Task Complexity')\n",
    "ax1.set_ylabel('Cost per Task ($)')\n",
    "ax1.set_title('Cost Comparison: Hybrid vs Naive Approach')\n",
    "ax1.set_xticks(x)\n",
    "ax1.set_xticklabels(task_types)\n",
    "ax1.legend()\n",
    "ax1.grid(axis='y', alpha=0.3)\n",
    "\n",
    "# Savings percentage\n",
    "savings = [(n - h) / n * 100 if n > 0 else 0 \n",
    "           for n, h in zip(naive_costs, hybrid_costs)]\n",
    "\n",
    "bars = ax2.bar(task_types, savings, color='gold', alpha=0.7)\n",
    "for bar in bars:\n",
    "    height = bar.get_height()\n",
    "    ax2.text(bar.get_x() + bar.get_width()/2., height,\n",
    "            f'{height:.0f}%', ha='center', va='bottom', fontsize=12, fontweight='bold')\n",
    "\n",
    "ax2.set_xlabel('Task Complexity')\n",
    "ax2.set_ylabel('Cost Savings (%)')\n",
    "ax2.set_title('Hybrid Approach Cost Savings')\n",
    "ax2.set_ylim(0, 110)\n",
    "ax2.grid(axis='y', alpha=0.3)\n",
    "\n",
    "plt.tight_layout()\n",
    "plt.show()\n",
    "\n",
    "# Summary\n",
    "total_naive = sum(naive_costs)\n",
    "total_hybrid = sum(hybrid_costs)\n",
    "total_savings = (total_naive - total_hybrid) / total_naive * 100\n",
    "\n",
    "print(f\"\\n💰 Hybrid AI Approach Cost Analysis:\")\n",
    "print(f\"   Total cost (naive): ${total_naive:.2f}\")\n",
    "print(f\"   Total cost (hybrid): ${total_hybrid:.2f}\")\n",
    "print(f\"   Total savings: {total_savings:.1f}%\")\n",
    "print(f\"\\n   Simple tasks: {savings[0]:.0f}% savings (zero AI calls!)\")\n",
    "print(f\"   Complex tasks: {savings[2]:.0f}% savings (adaptive AI calls)\")"
   ]
  },
  {
   "cell_type": "markdown",
   "metadata": {
    "slideshow": {
     "slide_type": "slide"
    }
   },
   "source": [
    "## 🎬 Live Demo: Running Artemis\n",
    "\n",
    "### Demo Scenario:\n",
    "Create a Kanban card and watch Artemis orchestrate the entire development workflow."
   ]
  },
  {
   "cell_type": "code",
   "execution_count": null,
   "metadata": {
    "slideshow": {
     "slide_type": "subslide"
    }
   },
   "outputs": [],
   "source": [
    "# Example: Show Artemis command structure\n",
    "print(\"\"\"\\n🎬 Running Artemis:\\n\n",
    "# Basic execution\n",
    "python3 artemis_orchestrator.py --card-id card-123\n",
    "\n",
    "# With specific developer\n",
    "python3 artemis_orchestrator.py --card-id card-123 --developer developer-a\n",
    "\n",
    "# Full pipeline (all stages)\n",
    "python3 artemis_orchestrator.py --card-id card-123 --full\n",
    "\n",
    "# With advanced features\n",
    "python3 artemis_orchestrator.py --card-id card-123 --use-advanced-features\n",
    "\n",
    "# Sprint mode\n",
    "python3 artemis_orchestrator.py --sprint-mode\n",
    "\"\"\")\n",
    "\n",
    "print(\"\\n📊 Artemis Execution Flow:\\n\")\n",
    "print(\"1. Load card from Kanban board\")\n",
    "print(\"2. Intelligent Router analyzes task\")\n",
    "print(\"3. Router recommends optimal pipeline strategy\")\n",
    "print(\"4. Orchestrator executes pipeline stages:\")\n",
    "print(\"   - Requirements Analysis\")\n",
    "print(\"   - Architecture Design\")\n",
    "print(\"   - Implementation\")\n",
    "print(\"   - Testing\")\n",
    "print(\"   - Code Review\")\n",
    "print(\"   - Documentation\")\n",
    "print(\"5. Update card status and metrics\")\n",
    "print(\"6. Generate reports and artifacts\")"
   ]
  },
  {
   "cell_type": "markdown",
   "metadata": {
    "slideshow": {
     "slide_type": "slide"
    }
   },
   "source": [
    "## 📊 Metrics & Performance\n",
    "\n",
    "### Key Metrics Tracked:\n",
    "\n",
    "- **Cycle Time**: Time from backlog to done\n",
    "- **Throughput**: Cards completed per sprint\n",
    "- **Velocity**: Story points completed per sprint\n",
    "- **Success Rate**: Percentage of successful completions\n",
    "- **LLM Cost**: Cost per card/sprint\n",
    "- **Quality Metrics**: Code coverage, test pass rate, review scores"
   ]
  },
  {
   "cell_type": "code",
   "execution_count": null,
   "metadata": {
    "slideshow": {
     "slide_type": "subslide"
    }
   },
   "outputs": [],
   "source": [
    "# Simulated metrics data\n",
    "sprints = ['Sprint 1', 'Sprint 2', 'Sprint 3', 'Sprint 4', 'Sprint 5']\n",
    "velocity = [18, 21, 24, 26, 28]\n",
    "success_rate = [0.75, 0.82, 0.85, 0.88, 0.90]\n",
    "avg_cycle_time = [5.2, 4.8, 4.5, 4.2, 4.0]  # days\n",
    "llm_cost = [12.50, 11.80, 10.20, 9.50, 8.80]  # dollars\n",
    "\n",
    "fig, ((ax1, ax2), (ax3, ax4)) = plt.subplots(2, 2, figsize=(15, 10))\n",
    "\n",
    "# Velocity trend\n",
    "ax1.plot(sprints, velocity, marker='o', linewidth=2, markersize=8, color='steelblue')\n",
    "ax1.fill_between(range(len(sprints)), velocity, alpha=0.3, color='steelblue')\n",
    "ax1.set_title('Sprint Velocity (Story Points)', fontsize=14, fontweight='bold')\n",
    "ax1.set_ylabel('Story Points')\n",
    "ax1.grid(True, alpha=0.3)\n",
    "for i, v in enumerate(velocity):\n",
    "    ax1.text(i, v + 0.5, str(v), ha='center', va='bottom', fontweight='bold')\n",
    "\n",
    "# Success rate\n",
    "ax2.plot(sprints, [sr * 100 for sr in success_rate], marker='s', linewidth=2, \n",
    "         markersize=8, color='green')\n",
    "ax2.fill_between(range(len(sprints)), [sr * 100 for sr in success_rate], \n",
    "                 alpha=0.3, color='green')\n",
    "ax2.set_title('Success Rate (%)', fontsize=14, fontweight='bold')\n",
    "ax2.set_ylabel('Success Rate (%)')\n",
    "ax2.set_ylim(70, 95)\n",
    "ax2.grid(True, alpha=0.3)\n",
    "for i, sr in enumerate(success_rate):\n",
    "    ax2.text(i, sr * 100 + 0.5, f'{sr*100:.0f}%', ha='center', va='bottom', fontweight='bold')\n",
    "\n",
    "# Cycle time\n",
    "ax3.bar(sprints, avg_cycle_time, color='coral', alpha=0.7)\n",
    "ax3.set_title('Average Cycle Time (Days)', fontsize=14, fontweight='bold')\n",
    "ax3.set_ylabel('Days')\n",
    "ax3.grid(axis='y', alpha=0.3)\n",
    "for i, ct in enumerate(avg_cycle_time):\n",
    "    ax3.text(i, ct + 0.1, f'{ct:.1f}', ha='center', va='bottom', fontweight='bold')\n",
    "\n",
    "# LLM cost\n",
    "ax4.bar(sprints, llm_cost, color='gold', alpha=0.7)\n",
    "ax4.set_title('LLM Cost per Sprint ($)', fontsize=14, fontweight='bold')\n",
    "ax4.set_ylabel('Cost ($)')\n",
    "ax4.grid(axis='y', alpha=0.3)\n",
    "for i, cost in enumerate(llm_cost):\n",
    "    ax4.text(i, cost + 0.2, f'${cost:.2f}', ha='center', va='bottom', fontweight='bold')\n",
    "\n",
    "plt.tight_layout()\n",
    "plt.show()\n",
    "\n",
    "# Summary\n",
    "print(\"\\n📈 Performance Trends:\")\n",
    "print(f\"   Velocity: {velocity[0]} → {velocity[-1]} points (+{velocity[-1] - velocity[0]} points, +{(velocity[-1] - velocity[0])/velocity[0]*100:.1f}%)\")\n",
    "print(f\"   Success Rate: {success_rate[0]:.0%} → {success_rate[-1]:.0%} (+{(success_rate[-1] - success_rate[0])*100:.0f}pp)\")\n",
    "print(f\"   Cycle Time: {avg_cycle_time[0]:.1f} → {avg_cycle_time[-1]:.1f} days (-{avg_cycle_time[0] - avg_cycle_time[-1]:.1f} days)\")\n",
    "print(f\"   LLM Cost: ${llm_cost[0]:.2f} → ${llm_cost[-1]:.2f} (-${llm_cost[0] - llm_cost[-1]:.2f}, -{(llm_cost[0] - llm_cost[-1])/llm_cost[0]*100:.1f}%)\")"
   ]
  },
  {
   "cell_type": "markdown",
   "metadata": {
    "slideshow": {
     "slide_type": "slide"
    }
   },
   "source": [
    "## 🎯 Key Takeaways\n",
    "\n",
    "### Artemis Advantages:\n",
    "\n",
    "1. **Intelligent Task Analysis** - Router analyzes every task and recommends optimal strategy\n",
    "\n",
    "2. **Advanced Pipeline Features**\n",
    "   - Thermodynamic Computing: Uncertainty quantification\n",
    "   - Dynamic Pipeline: Runtime adaptability and parallelization\n",
    "   - Two-Pass Pipeline: Fast feedback with refinement\n",
    "\n",
    "3. **Cost Optimization** - Hybrid AI approach saves 50-70% on LLM costs\n",
    "\n",
    "4. **Quality Assurance** - Multi-stage validation, code review, testing\n",
    "\n",
    "5. **Full Agile Integration** - Kanban board, sprints, velocity tracking\n",
    "\n",
    "6. **Multi-Agent Coordination** - Specialized agents work together seamlessly\n",
    "\n",
    "7. **Knowledge Graph First** - Persistent knowledge with RAG fallback"
   ]
  },
  {
   "cell_type": "markdown",
   "metadata": {
    "slideshow": {
     "slide_type": "slide"
    }
   },
   "source": [
    "## 🚀 Future Enhancements\n",
    "\n",
    "### Roadmap:\n",
    "\n",
    "- **Enhanced Router** - Machine learning for strategy selection\n",
    "- **More Advanced Features** - Genetic algorithms, reinforcement learning\n",
    "- **Better Metrics** - Real-time dashboards, predictive analytics\n",
    "- **Integration** - GitHub Actions, CI/CD pipelines, Slack notifications\n",
    "- **Multi-Project Support** - Manage multiple codebases simultaneously\n",
    "- **Custom Agent Types** - Domain-specific agents (mobile, ML, data engineering)\n",
    "- **Cost Predictions** - Forecast sprint costs before execution\n",
    "- **Quality Predictions** - Predict success probability before starting"
   ]
  },
  {
   "cell_type": "markdown",
   "metadata": {
    "slideshow": {
     "slide_type": "slide"
    }
   },
   "source": [
    "## ❓ Questions & Discussion\n",
    "\n",
    "### Common Questions:\n",
    "\n",
    "**Q: How does Artemis handle failures?**\n",
    "A: Multiple layers - retry strategies, rollback mechanisms, fallback approaches, and supervisor agent monitoring.\n",
    "\n",
    "**Q: Can I use my own LLM?**\n",
    "A: Yes! Artemis supports multiple LLM providers (OpenAI, Anthropic, local models via LM Studio).\n",
    "\n",
    "**Q: How much does it cost to run?**\n",
    "A: Depends on task complexity. With hybrid approach: $0 for simple tasks, $0.10-0.20 for complex tasks.\n",
    "\n",
    "**Q: Can I customize the pipeline stages?**\n",
    "A: Absolutely! Artemis uses a modular architecture - add/remove/customize stages as needed.\n",
    "\n",
    "**Q: How does the Knowledge Graph work?**\n",
    "A: KG stores structured knowledge (entities, relations). RAG provides semantic search fallback. LLM is last resort.\n",
    "\n",
    "---\n",
    "\n",
    "### Thank you!\n",
    "\n",
    "**Repository:** `/home/bbrelin/src/repos/artemis`\n",
    "\n",
    "**Documentation:** See `README.md` and markdown files in repo"
   ]
  }
 ],
 "metadata": {
  "celltoolbar": "Slideshow",
  "kernelspec": {
   "display_name": "Python 3",
   "language": "python",
   "name": "python3"
  },
  "language_info": {
   "codemirror_mode": {
    "name": "ipython",
    "version": 3
   },
   "file_extension": ".py",
   "mimetype": "text/x-python",
   "name": "python",
   "nbconvert_exporter": "python",
   "pygments_lexer": "ipython3",
   "version": "3.8.10"
  }
 },
 "nbformat": 4,
 "nbformat_minor": 4
}
